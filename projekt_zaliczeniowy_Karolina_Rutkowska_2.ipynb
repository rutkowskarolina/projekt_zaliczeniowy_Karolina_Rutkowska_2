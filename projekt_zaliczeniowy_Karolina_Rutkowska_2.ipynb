{
  "nbformat": 4,
  "nbformat_minor": 0,
  "metadata": {
    "colab": {
      "provenance": []
    },
    "kernelspec": {
      "name": "python3",
      "display_name": "Python 3"
    },
    "language_info": {
      "name": "python"
    }
  },
  "cells": [
    {
      "cell_type": "code",
      "execution_count": 1,
      "metadata": {
        "colab": {
          "base_uri": "https://localhost:8080/"
        },
        "id": "PduHS5jrG49m",
        "outputId": "7228c4bb-4a95-4fb2-eb64-6d92e371183f"
      },
      "outputs": [
        {
          "output_type": "stream",
          "name": "stdout",
          "text": [
            "Looking in indexes: https://pypi.org/simple, https://us-python.pkg.dev/colab-wheels/public/simple/\n",
            "Requirement already satisfied: pandas in /usr/local/lib/python3.9/dist-packages (1.3.5)\n",
            "Requirement already satisfied: python-dateutil>=2.7.3 in /usr/local/lib/python3.9/dist-packages (from pandas) (2.8.2)\n",
            "Requirement already satisfied: pytz>=2017.3 in /usr/local/lib/python3.9/dist-packages (from pandas) (2022.7.1)\n",
            "Requirement already satisfied: numpy>=1.17.3 in /usr/local/lib/python3.9/dist-packages (from pandas) (1.22.4)\n",
            "Requirement already satisfied: six>=1.5 in /usr/local/lib/python3.9/dist-packages (from python-dateutil>=2.7.3->pandas) (1.15.0)\n"
          ]
        }
      ],
      "source": [
        "pip install pandas"
      ]
    },
    {
      "cell_type": "code",
      "source": [
        "import pandas as pd\n",
        "tweety=pd.read_csv(\"/content/rutkowska.csv\")\n",
        "print(tweety)"
      ],
      "metadata": {
        "colab": {
          "base_uri": "https://localhost:8080/"
        },
        "id": "FJk1Www7HBHm",
        "outputId": "94bd3bd7-9298-48be-bf6f-111533024bad"
      },
      "execution_count": 5,
      "outputs": [
        {
          "output_type": "stream",
          "name": "stdout",
          "text": [
            "     coordinates                      created_at          hashtags  \\\n",
            "0            NaN  Mon Nov 28 16:30:02 +0000 2022               NaN   \n",
            "1            NaN  Mon Nov 28 20:35:39 +0000 2022               NaN   \n",
            "2            NaN  Mon Nov 28 16:41:28 +0000 2022               NaN   \n",
            "3            NaN  Mon Nov 28 19:35:31 +0000 2022               NaN   \n",
            "4            NaN  Mon Nov 28 13:24:52 +0000 2022               NaN   \n",
            "..           ...                             ...               ...   \n",
            "695          NaN  Sun Nov 20 22:00:01 +0000 2022  ElonMusk twitter   \n",
            "696          NaN  Sun Nov 20 23:02:18 +0000 2022               NaN   \n",
            "697          NaN  Sun Nov 20 16:14:44 +0000 2022               NaN   \n",
            "698          NaN  Sun Nov 20 17:46:46 +0000 2022               NaN   \n",
            "699          NaN  Sun Nov 20 21:47:26 +0000 2022               NaN   \n",
            "\n",
            "                                                 media  \\\n",
            "0                                                  NaN   \n",
            "1                                                  NaN   \n",
            "2                                                  NaN   \n",
            "3                                                  NaN   \n",
            "4                                                  NaN   \n",
            "..                                                 ...   \n",
            "695                                                NaN   \n",
            "696                                                NaN   \n",
            "697                                                NaN   \n",
            "698                                                NaN   \n",
            "699  https://twitter.com/piwo_domowe/status/1594447...   \n",
            "\n",
            "                                                  urls  favorite_count  \\\n",
            "0                                                  NaN               9   \n",
            "1                                                  NaN              35   \n",
            "2                                                  NaN               0   \n",
            "3                                                  NaN               0   \n",
            "4                                                  NaN               1   \n",
            "..                                                 ...             ...   \n",
            "695  https://naekranie.pl/lekkie/twitter-kto-odszed...               1   \n",
            "696                                                NaN               0   \n",
            "697  https://twitter.com/everything20233/status/159...               8   \n",
            "698  https://www.cnn.com/2022/11/20/tech/twitter-el...               3   \n",
            "699                                                NaN               5   \n",
            "\n",
            "                      id in_reply_to_screen_name  in_reply_to_status_id  \\\n",
            "0    1597266579062149122            matipniewski           1.597230e+18   \n",
            "1    1597328388636938241                     NaN                    NaN   \n",
            "2    1597269455020883968               mharger20           1.597269e+18   \n",
            "3    1597313255554572289           MussaBabaleo2           1.597312e+18   \n",
            "4    1597219976712433665                elonmusk           1.597171e+18   \n",
            "..                   ...                     ...                    ...   \n",
            "695  1594450518553739264                     NaN                    NaN   \n",
            "696  1594466191631843328           dudinha_fritz           1.594457e+18   \n",
            "697  1594363622515408901                     NaN                    NaN   \n",
            "698  1594386785869893633                     NaN                    NaN   \n",
            "699  1594447352076636165                     NaN                    NaN   \n",
            "\n",
            "     in_reply_to_user_id  ... user_followers_count user_friends_count  \\\n",
            "0           1.401581e+18  ...                    2                  8   \n",
            "1                    NaN  ...                 8186                589   \n",
            "2           8.360090e+17  ...                  102                622   \n",
            "3           1.464325e+18  ...                  281                920   \n",
            "4           4.419640e+07  ...                   34                239   \n",
            "..                   ...  ...                  ...                ...   \n",
            "695                  NaN  ...                10766                108   \n",
            "696         1.495552e+18  ...                  367               1146   \n",
            "697                  NaN  ...                10233                 31   \n",
            "698                  NaN  ...                 4475               2263   \n",
            "699                  NaN  ...                 2284                954   \n",
            "\n",
            "    user_listed_count                 user_location            user_name  \\\n",
            "0                   0                         sraka                sraka   \n",
            "1                 162                        Polska  PrawyPopulista 🇵🇱🇺🇦   \n",
            "2                   0                           NaN        Harger do 047   \n",
            "3                   0                      Tanzania                Waltz   \n",
            "4                   0                           NaN         Mark Damasco   \n",
            "..                ...                           ...                  ...   \n",
            "695                61                        Poland         naEKRANIE.pl   \n",
            "696                 0                           NaN            livinho 🛸   \n",
            "697               122               Bromley, London        Seb Ross 🇵🇱🇬🇧   \n",
            "698                 2  Italia,Polonia,Svizzera,USA           Ally L.Beal   \n",
            "699                 5                           NaN    Leszek Piątkowski   \n",
            "\n",
            "     user_screen_name  user_statuses_count user_time_zone  \\\n",
            "0            ko_smaty                  244            NaN   \n",
            "1        PrawaStronaa                80738            NaN   \n",
            "2           mharger20                 5690            NaN   \n",
            "3           WaMpembee                 1242            NaN   \n",
            "4     realMarkDamasco                  875            NaN   \n",
            "..                ...                  ...            ...   \n",
            "695       naEKRANIEpl                34233            NaN   \n",
            "696      livinhocrf77                 9372            NaN   \n",
            "697          SebRoss4                18616            NaN   \n",
            "698         AllMcBill                27150            NaN   \n",
            "699       piwo_domowe                 5972            NaN   \n",
            "\n",
            "                     user_urls user_verified  \n",
            "0             http://sraka.com         False  \n",
            "1                          NaN         False  \n",
            "2    http://Twich.tv/mharger20         False  \n",
            "3                          NaN         False  \n",
            "4                          NaN         False  \n",
            "..                         ...           ...  \n",
            "695    http://www.naEKRANIE.pl         False  \n",
            "696                        NaN         False  \n",
            "697                        NaN         False  \n",
            "698                        NaN         False  \n",
            "699                        NaN         False  \n",
            "\n",
            "[700 rows x 35 columns]\n"
          ]
        }
      ]
    },
    {
      "cell_type": "code",
      "source": [
        "#1.1\n",
        "tweety[\"created_at\"] = [element.replace(\"Mon\", \"Poniedziałek\") for element in tweety[\"created_at\"]]\n",
        "tweety[\"created_at\"] = [element.replace(\"Tue\", \"Wtorek\") for element in tweety[\"created_at\"]]\n",
        "tweety[\"created_at\"] = [element.replace(\"Wed\", \"Środa\") for element in tweety[\"created_at\"]]\n",
        "tweety[\"created_at\"] = [element.replace(\"Thu\", \"Czwartek\") for element in tweety[\"created_at\"]]\n",
        "tweety[\"created_at\"] = [element.replace(\"Fri\", \"Piątek\") for element in tweety[\"created_at\"]]\n",
        "tweety[\"created_at\"] = [element.replace(\"Sat\", \"Sobota\") for element in tweety[\"created_at\"]]\n",
        "tweety[\"created_at\"] = [element.replace(\"Sun\", \"Niedziela\") for element in tweety[\"created_at\"]]"
      ],
      "metadata": {
        "id": "JOEzVrgYH6NV"
      },
      "execution_count": 6,
      "outputs": []
    },
    {
      "cell_type": "code",
      "source": [
        "#1.2\n",
        "tweety[\"user_created_at\"] = [element.replace(\"Jan\", \"01\") for element in tweety[\"user_created_at\"]]\n",
        "tweety[\"user_created_at\"] = [element.replace(\"Feb\", \"02\") for element in tweety[\"user_created_at\"]]\n",
        "tweety[\"user_created_at\"] = [element.replace(\"Mar\", \"03\") for element in tweety[\"user_created_at\"]]\n",
        "tweety[\"user_created_at\"] = [element.replace(\"Apr\", \"04\") for element in tweety[\"user_created_at\"]]\n",
        "tweety[\"user_created_at\"] = [element.replace(\"May\", \"05\") for element in tweety[\"user_created_at\"]]\n",
        "tweety[\"user_created_at\"] = [element.replace(\"Jul\", \"06\") for element in tweety[\"user_created_at\"]]\n",
        "tweety[\"user_created_at\"] = [element.replace(\"Jun\", \"07\") for element in tweety[\"user_created_at\"]]\n",
        "tweety[\"user_created_at\"] = [element.replace(\"Aug\", \"08\") for element in tweety[\"user_created_at\"]]\n",
        "tweety[\"user_created_at\"] = [element.replace(\"Sep\", \"09\") for element in tweety[\"user_created_at\"]]\n",
        "tweety[\"user_created_at\"] = [element.replace(\"Oct\", \"10\") for element in tweety[\"user_created_at\"]]\n",
        "tweety[\"user_created_at\"] = [element.replace(\"Nov\", \"11\") for element in tweety[\"user_created_at\"]]\n",
        "tweety[\"user_created_at\"] = [element.replace(\"Dec\", \"12\") for element in tweety[\"user_created_at\"]]"
      ],
      "metadata": {
        "id": "nl3hm5wRH9A2"
      },
      "execution_count": 7,
      "outputs": []
    },
    {
      "cell_type": "code",
      "source": [
        "#1.3\n",
        "lista_linkow_do_tweetow = tweety[\"tweet_url\"].to_list()"
      ],
      "metadata": {
        "id": "zwU8r84dIF89"
      },
      "execution_count": 8,
      "outputs": []
    },
    {
      "cell_type": "code",
      "source": [
        "#1.4\n",
        "lista_linkow_w_tweetach = tweety[\"urls\"].dropna().to_list()"
      ],
      "metadata": {
        "id": "TO99hjlSILCN"
      },
      "execution_count": 9,
      "outputs": []
    },
    {
      "cell_type": "code",
      "source": [
        "stopwords = [\"ach\",\"aj\",\"albo\",\"bardzo\",\"bez\",\"bo\",\"być\",\"ci\",\"cię\",\"ciebie\",\"co\",\"czy\",\"daleko\",\"dla\",\"dlaczego\",\"dlatego\",\"do\",\"dobrze\",\"dokąd\",\"dość\",\"dużo\",\n",
        " \"dwa\",\"dwaj\",\"dwie\",\"dwoje\",\"dziś\",\"dzisiaj\",\"gdyby\",\"gdzie\",\"go\",\"ich\",\"ile\",\"im\",\"inny\",\"ja\",\"ją\",\"jak\",\"jakby\",\"jaki\",\"je\",\"jeden\",\"jedna\",\"jedno\",\"jego\",\"jej\",\n",
        " \"jemu\",\"jeśli\",\"jest\",\"jestem\",\"jeżeli\",\"już\",\"każdy\",\"kiedy\",\"kierunku\",\"kto\",\"ku\",\"lub\",\"ma\",\"mają\",\"mam\",\"mi\",\"mną\",\"mnie\",\"moi\",\"mój\",\"moja\",\"moje\",\"może\",\n",
        " \"mu\",\"my\",\"na\",\"nam\",\"nami\",\"nas\",\"nasi\",\"nasz\",\"nasza\",\"nasze\",\"natychmiast\",\"nią\",\"nic\",\"nich\",\"nie\",\"niego\",\"niej\",\"niemu\",\"nigdy\",\"nim\",\"nimi\",\"niż\",\"obok\",\n",
        " \"od\",\"około\",\"on\",\"ona\",\"one\",\"oni\",\"ono\",\"owszem\",\"po\",\"pod\",\"ponieważ\",\"przed\",\"przedtem\",\"są\",\"sam\",\"sama\",\"się\",\"skąd\",\"tak\",\"taki\",\"tam\",\"ten\",\"to\",\"tobą\",\n",
        " \"tobie\",\"tu\",\"tutaj\",\"twoi\",\"twój\",\"twoja\",\"twoje\",\"ty\",\"wam\",\"wami\",\"was\",\"wasi\",\"wasz\",\"wasza\",\"wasze\",\"we\",\"więc\",\"wszystko\",\"wtedy\",\"wy\",\"żaden\",\"zawsze\",\n",
        " \"że\",\"a\",\"aby\",\"acz\",\"aczkolwiek\",\"ale\",\"ależ\",\"aż\",\"bardziej\",\"bowiem\",\"by\",\"byli\",\"bynajmniej\",\"był\",\"była\",\"było\",\"były\",\"będzie\",\"będą\",\"cali\",\"cała\",\"cały\",\n",
        " \"cokolwiek\",\"coś\",\"czasami\",\"czasem\",\"czemu\",\"czyli\",\"gdy\",\"gdyż\",\"gdziekolwiek\",\"gdzieś\",\"i\",\"inna\",\"inne\",\"innych\",\"iż\",\"jakaś\",\"jakichś\",\"jakie\",\"jakiś\",\"jakiż\",\n",
        " \"jakkolwiek\",\"jako\",\"jakoś\",\"jednak\",\"jednakże\",\"jeszcze\",\"kilka\",\"kimś\",\"ktokolwiek\",\"ktoś\",\"która\",\"które\",\"którego\",\"której\",\"który\",\"których\",\"którym\",\"którzy\",\n",
        " \"lat\",\"lecz\",\"mimo\",\"między\",\"mogą\",\"moim\",\"możliwe\",\"można\",\"musi\",\"nad\",\"naszego\",\"naszych\",\"natomiast\",\"nawet\",\"no\",\"o\",\"oraz\",\"pan\",\"pana\",\"pani\",\"podczas\",\n",
        " \"pomimo\",\"ponad\",\"powinien\",\"powinna\",\"powinni\",\"powinno\",\"poza\",\"prawie\",\"przecież\",\"przede\",\"przez\",\"przy\",\"roku\",\"również\",\"sobie\",\"sobą\",\"sposób\",\"swoje\",\"ta\",\n",
        " \"taka\",\"takie\",\"także\",\"te\",\"tego\",\"tej\",\"teraz\",\"też\",\"totobą\",\"toteż\",\"trzeba\",\"twoim\",\"twym\",\"tych\",\"tylko\",\"tym\",\"u\",\"w\",\"według\",\"wiele\",\"wielu\",\"więcej\",\n",
        " \"wszyscy\",\"wszystkich\",\"wszystkie\",\"wszystkim\",\"właśnie\",\"z\",\"za\",\"zapewne\",\"zeznowu\",\"znów\",\"został\",\"żadna\",\"żadne\",\"żadnych\",\"żeby\"]"
      ],
      "metadata": {
        "id": "wVckES3lIiUl"
      },
      "execution_count": 11,
      "outputs": []
    },
    {
      "cell_type": "code",
      "source": [
        "def read_file(path):\n",
        "  with open(\"tweety\", \"r\", encoding = \"utf-8\") as f:\n",
        "    plik = f.read()\n",
        "    return plik"
      ],
      "metadata": {
        "id": "eKhn9GZ3IzYk"
      },
      "execution_count": 12,
      "outputs": []
    },
    {
      "cell_type": "code",
      "source": [
        "tweety[\"text_without_stopwords\"] = \"0\""
      ],
      "metadata": {
        "id": "voodWujrI0dl"
      },
      "execution_count": 13,
      "outputs": []
    },
    {
      "cell_type": "code",
      "source": [
        "tweety[\"text_without_stopwords\"] = [element.replace(\"stopwords\", \" \") for element in tweety[\"text_without_stopwords\"]]"
      ],
      "metadata": {
        "id": "w2nGj_-uI_vc"
      },
      "execution_count": 15,
      "outputs": []
    },
    {
      "cell_type": "code",
      "source": [
        "#2.1\n",
        "print(tweety.sort_values(\"favorite_count\",ascending=False)[\"text\"][:5])"
      ],
      "metadata": {
        "colab": {
          "base_uri": "https://localhost:8080/"
        },
        "id": "3B-oMfKLL4Wv",
        "outputId": "f53d6c1e-1add-4722-be35-aa5e5bb8d04d"
      },
      "execution_count": 16,
      "outputs": [
        {
          "output_type": "stream",
          "name": "stdout",
          "text": [
            "648    ...Elon Musk zmienił przycisk Twitter Like z ❤...\n",
            "57     Elon Musk pracuje nad zwiększeniem limitu znak...\n",
            "309    Elon Musk nie przywróci konta Alexa Jonesa (fo...\n",
            "294    Podobno Elon Musk eliminuje wszystkie pedofils...\n",
            "457    Elon Musk w szafie w siedzibie twittera znalaz...\n",
            "Name: text, dtype: object\n"
          ]
        }
      ]
    },
    {
      "cell_type": "code",
      "source": [
        "#2.2\n",
        "print(tweety.sort_values(\"retweet_count\",ascending=False)[\"text\"][:5])"
      ],
      "metadata": {
        "colab": {
          "base_uri": "https://localhost:8080/"
        },
        "id": "15Sj6c1cMAew",
        "outputId": "0c10f8e1-7b3c-47c8-fbae-e2165a932441"
      },
      "execution_count": 17,
      "outputs": [
        {
          "output_type": "stream",
          "name": "stdout",
          "text": [
            "309    Elon Musk nie przywróci konta Alexa Jonesa (fo...\n",
            "55     \"Dokumenty Twittera dotyczące tłumienia wolnoś...\n",
            "57     Elon Musk pracuje nad zwiększeniem limitu znak...\n",
            "236    👏 Elon Musk rozpędził na cztery wiatry europej...\n",
            "47     \"Opinia publiczna zasługuje na to żeby wiedzie...\n",
            "Name: text, dtype: object\n"
          ]
        }
      ]
    },
    {
      "cell_type": "code",
      "source": [
        "#2.3\n",
        "print(tweety[\"text\"][tweety[\"possibly_sensitive\"] == False])\n",
        "print(tweety[\"text\"][tweety[\"possibly_sensitive\"] != True])"
      ],
      "metadata": {
        "colab": {
          "base_uri": "https://localhost:8080/"
        },
        "id": "fAHiP-5ZMEIw",
        "outputId": "53e96b74-0e31-456c-d554-663c5a49a4fd"
      },
      "execution_count": 18,
      "outputs": [
        {
          "output_type": "stream",
          "name": "stdout",
          "text": [
            "5      Elon Musk sugeruje, że Apple nienawidzi wolnoś...\n",
            "6      Elon Musk oskarżył firmę Apple o grożenie zabl...\n",
            "14     Elon Musk vs Apple!\\n\\nJak obstawiacie? Komu k...\n",
            "17     Elon Musk przekazał, że Apple ograniczyło swoj...\n",
            "19        PAU NO CU DO ELON MUSK https://t.co/MUpIHeQxiz\n",
            "                             ...                        \n",
            "693    Elon Musk może zostać pozbawiony obywatelstwa ...\n",
            "695    Wkrótce po przejęciu platformy przez #ElonMusk...\n",
            "697    To nie ja udostępniam, tylko Twitter. Elon Mus...\n",
            "698    E. Musk może pogrążyć Twittera w jeszcze więks...\n",
            "699        Elon Musk widział to. https://t.co/AM16jz7dwS\n",
            "Name: text, Length: 326, dtype: object\n",
            "0      @matipniewski Wydaje mi się że Twitter to miej...\n",
            "1      Apple grozi, że usunie Twittera ze swojego skl...\n",
            "2                    Mano do nada o elon musk kkkkkkkkkk\n",
            "3                 @MussaBabaleo2 kwani we ndio elon musk\n",
            "4      @elonmusk What do you mean(wdym elon?, Wdym mu...\n",
            "                             ...                        \n",
            "695    Wkrótce po przejęciu platformy przez #ElonMusk...\n",
            "696                @dudinha_fritz @elonmusk o Elon Musk?\n",
            "697    To nie ja udostępniam, tylko Twitter. Elon Mus...\n",
            "698    E. Musk może pogrążyć Twittera w jeszcze więks...\n",
            "699        Elon Musk widział to. https://t.co/AM16jz7dwS\n",
            "Name: text, Length: 692, dtype: object\n"
          ]
        }
      ]
    },
    {
      "cell_type": "code",
      "source": [
        "#2.4\n",
        "print(tweety[\"text\"][tweety[\"user_created_at\"] == min(tweety[\"user_created_at\"])])"
      ],
      "metadata": {
        "colab": {
          "base_uri": "https://localhost:8080/"
        },
        "id": "rCoX1afKMLtI",
        "outputId": "9fcfc1f9-641f-48ca-8358-dfe55caa85cf"
      },
      "execution_count": 19,
      "outputs": [
        {
          "output_type": "stream",
          "name": "stdout",
          "text": [
            "178    Dziś w #PorannePierdolondo o 9.30:\\n✅Dogecoin ...\n",
            "Name: text, dtype: object\n"
          ]
        }
      ]
    },
    {
      "cell_type": "code",
      "source": [
        "#2.5\n",
        "print(tweety[\"text\"][tweety[\"user_followers_count\"] == max(tweety[\"user_followers_count\"])])"
      ],
      "metadata": {
        "colab": {
          "base_uri": "https://localhost:8080/"
        },
        "id": "VMLN9KJ0MP64",
        "outputId": "2a5b0265-9c71-44e3-a5f8-b84c95f101f1"
      },
      "execution_count": 20,
      "outputs": [
        {
          "output_type": "stream",
          "name": "stdout",
          "text": [
            "261    Miliarder Elon Musk zadeklarował w piątek, kog...\n",
            "506    Elon Musk wykluczył powrót Alexa Jonesa na Twi...\n",
            "Name: text, dtype: object\n"
          ]
        }
      ]
    },
    {
      "cell_type": "code",
      "source": [
        "#2.6\n",
        "print(tweety[\"user_name\"][tweety[\"user_verified\"] == True])"
      ],
      "metadata": {
        "colab": {
          "base_uri": "https://localhost:8080/"
        },
        "id": "U4WSXJ5ZMVK_",
        "outputId": "75039469-29e7-43bb-bc95-9c35e7389179"
      },
      "execution_count": 21,
      "outputs": [
        {
          "output_type": "stream",
          "name": "stdout",
          "text": [
            "17                                          Puls Biznesu\n",
            "49                                      przemysław pająk\n",
            "50                                           tvp.info 🇵🇱\n",
            "75                            Business Insider Polska 🇵🇱\n",
            "131                                          Paweł Baran\n",
            "137                           Business Insider Polska 🇵🇱\n",
            "140                           Business Insider Polska 🇵🇱\n",
            "209                           Business Insider Polska 🇵🇱\n",
            "211                                       Rzeczpospolita\n",
            "250                                            Forsal.pl\n",
            "255                              𝗦𝘁𝗮𝗻𝗶𝘀ł𝗮𝘄 𝗠. 𝗦𝘁𝗮𝗻𝘂𝗰𝗵 🇵🇱\n",
            "261                                                tvn24\n",
            "273                                  Węglarczyk 🇵🇱🇪🇺🇺🇸💙💛\n",
            "299                                  Węglarczyk 🇵🇱🇪🇺🇺🇸💙💛\n",
            "306                                           My Game On\n",
            "310                           Business Insider Polska 🇵🇱\n",
            "329                                            Forsal.pl\n",
            "333                                          tvp.info 🇵🇱\n",
            "336                                            Forsal.pl\n",
            "414                                         Puls Biznesu\n",
            "457                                   Krzysztof Bosak 🇵🇱\n",
            "465                                    Jerry James Stone\n",
            "482                           Business Insider Polska 🇵🇱\n",
            "486                           Business Insider Polska 🇵🇱\n",
            "506                                                tvn24\n",
            "536                           Business Insider Polska 🇵🇱\n",
            "568    Wojciech Cegielski (Polskie Radio / Podcast Św...\n",
            "601                                 Wojtek Pietrusiewicz\n",
            "617                           Business Insider Polska 🇵🇱\n",
            "632                           Business Insider Polska 🇵🇱\n",
            "633                                           Bankier.pl\n",
            "Name: user_name, dtype: object\n"
          ]
        }
      ]
    },
    {
      "cell_type": "code",
      "source": [
        "#2.7\n",
        "print(tweety[\"created_at\"].apply(lambda x: x.split(\" \",1)[0]).value_counts().keys()[0])"
      ],
      "metadata": {
        "colab": {
          "base_uri": "https://localhost:8080/"
        },
        "id": "hN5BVFy8MZj_",
        "outputId": "9abc5526-3b59-4b25-bf9b-2f91f6334ec9"
      },
      "execution_count": 22,
      "outputs": [
        {
          "output_type": "stream",
          "name": "stdout",
          "text": [
            "Poniedziałek\n"
          ]
        }
      ]
    },
    {
      "cell_type": "code",
      "source": [
        "!pip install spacy -U\n",
        "!python -m spacy download pl_core_news_lg"
      ],
      "metadata": {
        "colab": {
          "base_uri": "https://localhost:8080/"
        },
        "id": "X4ZS882FMdlQ",
        "outputId": "3098e105-7b06-41c6-ec53-f9793832a00c"
      },
      "execution_count": 23,
      "outputs": [
        {
          "output_type": "stream",
          "name": "stdout",
          "text": [
            "Looking in indexes: https://pypi.org/simple, https://us-python.pkg.dev/colab-wheels/public/simple/\n",
            "Requirement already satisfied: spacy in /usr/local/lib/python3.9/dist-packages (3.4.4)\n",
            "Collecting spacy\n",
            "  Downloading spacy-3.5.0-cp39-cp39-manylinux_2_17_x86_64.manylinux2014_x86_64.whl (6.6 MB)\n",
            "\u001b[2K     \u001b[90m━━━━━━━━━━━━━━━━━━━━━━━━━━━━━━━━━━━━━━━━\u001b[0m \u001b[32m6.6/6.6 MB\u001b[0m \u001b[31m86.8 MB/s\u001b[0m eta \u001b[36m0:00:00\u001b[0m\n",
            "\u001b[?25hRequirement already satisfied: setuptools in /usr/local/lib/python3.9/dist-packages (from spacy) (57.4.0)\n",
            "Requirement already satisfied: numpy>=1.15.0 in /usr/local/lib/python3.9/dist-packages (from spacy) (1.22.4)\n",
            "Requirement already satisfied: thinc<8.2.0,>=8.1.0 in /usr/local/lib/python3.9/dist-packages (from spacy) (8.1.8)\n",
            "Requirement already satisfied: pathy>=0.10.0 in /usr/local/lib/python3.9/dist-packages (from spacy) (0.10.1)\n",
            "Requirement already satisfied: wasabi<1.2.0,>=0.9.1 in /usr/local/lib/python3.9/dist-packages (from spacy) (0.10.1)\n",
            "Requirement already satisfied: srsly<3.0.0,>=2.4.3 in /usr/local/lib/python3.9/dist-packages (from spacy) (2.4.6)\n",
            "Requirement already satisfied: pydantic!=1.8,!=1.8.1,<1.11.0,>=1.7.4 in /usr/local/lib/python3.9/dist-packages (from spacy) (1.10.5)\n",
            "Requirement already satisfied: requests<3.0.0,>=2.13.0 in /usr/local/lib/python3.9/dist-packages (from spacy) (2.25.1)\n",
            "Requirement already satisfied: spacy-loggers<2.0.0,>=1.0.0 in /usr/local/lib/python3.9/dist-packages (from spacy) (1.0.4)\n",
            "Requirement already satisfied: preshed<3.1.0,>=3.0.2 in /usr/local/lib/python3.9/dist-packages (from spacy) (3.0.8)\n",
            "Requirement already satisfied: langcodes<4.0.0,>=3.2.0 in /usr/local/lib/python3.9/dist-packages (from spacy) (3.3.0)\n",
            "Requirement already satisfied: jinja2 in /usr/local/lib/python3.9/dist-packages (from spacy) (3.1.2)\n",
            "Requirement already satisfied: packaging>=20.0 in /usr/local/lib/python3.9/dist-packages (from spacy) (23.0)\n",
            "Requirement already satisfied: cymem<2.1.0,>=2.0.2 in /usr/local/lib/python3.9/dist-packages (from spacy) (2.0.7)\n",
            "Requirement already satisfied: murmurhash<1.1.0,>=0.28.0 in /usr/local/lib/python3.9/dist-packages (from spacy) (1.0.9)\n",
            "Requirement already satisfied: spacy-legacy<3.1.0,>=3.0.11 in /usr/local/lib/python3.9/dist-packages (from spacy) (3.0.12)\n",
            "Requirement already satisfied: catalogue<2.1.0,>=2.0.6 in /usr/local/lib/python3.9/dist-packages (from spacy) (2.0.8)\n",
            "Requirement already satisfied: tqdm<5.0.0,>=4.38.0 in /usr/local/lib/python3.9/dist-packages (from spacy) (4.65.0)\n",
            "Requirement already satisfied: typer<0.8.0,>=0.3.0 in /usr/local/lib/python3.9/dist-packages (from spacy) (0.7.0)\n",
            "Requirement already satisfied: smart-open<7.0.0,>=5.2.1 in /usr/local/lib/python3.9/dist-packages (from spacy) (6.3.0)\n",
            "Requirement already satisfied: typing-extensions>=4.2.0 in /usr/local/lib/python3.9/dist-packages (from pydantic!=1.8,!=1.8.1,<1.11.0,>=1.7.4->spacy) (4.5.0)\n",
            "Requirement already satisfied: idna<3,>=2.5 in /usr/local/lib/python3.9/dist-packages (from requests<3.0.0,>=2.13.0->spacy) (2.10)\n",
            "Requirement already satisfied: certifi>=2017.4.17 in /usr/local/lib/python3.9/dist-packages (from requests<3.0.0,>=2.13.0->spacy) (2022.12.7)\n",
            "Requirement already satisfied: chardet<5,>=3.0.2 in /usr/local/lib/python3.9/dist-packages (from requests<3.0.0,>=2.13.0->spacy) (4.0.0)\n",
            "Requirement already satisfied: urllib3<1.27,>=1.21.1 in /usr/local/lib/python3.9/dist-packages (from requests<3.0.0,>=2.13.0->spacy) (1.26.14)\n",
            "Requirement already satisfied: confection<1.0.0,>=0.0.1 in /usr/local/lib/python3.9/dist-packages (from thinc<8.2.0,>=8.1.0->spacy) (0.0.4)\n",
            "Requirement already satisfied: blis<0.8.0,>=0.7.8 in /usr/local/lib/python3.9/dist-packages (from thinc<8.2.0,>=8.1.0->spacy) (0.7.9)\n",
            "Requirement already satisfied: click<9.0.0,>=7.1.1 in /usr/local/lib/python3.9/dist-packages (from typer<0.8.0,>=0.3.0->spacy) (8.1.3)\n",
            "Requirement already satisfied: MarkupSafe>=2.0 in /usr/local/lib/python3.9/dist-packages (from jinja2->spacy) (2.1.2)\n",
            "Installing collected packages: spacy\n",
            "  Attempting uninstall: spacy\n",
            "    Found existing installation: spacy 3.4.4\n",
            "    Uninstalling spacy-3.4.4:\n",
            "      Successfully uninstalled spacy-3.4.4\n",
            "\u001b[31mERROR: pip's dependency resolver does not currently take into account all the packages that are installed. This behaviour is the source of the following dependency conflicts.\n",
            "en-core-web-sm 3.4.1 requires spacy<3.5.0,>=3.4.0, but you have spacy 3.5.0 which is incompatible.\u001b[0m\u001b[31m\n",
            "\u001b[0mSuccessfully installed spacy-3.5.0\n",
            "/usr/local/lib/python3.9/dist-packages/torch/cuda/__init__.py:497: UserWarning: Can't initialize NVML\n",
            "  warnings.warn(\"Can't initialize NVML\")\n",
            "2023-03-09 21:06:54.502410: I tensorflow/core/platform/cpu_feature_guard.cc:193] This TensorFlow binary is optimized with oneAPI Deep Neural Network Library (oneDNN) to use the following CPU instructions in performance-critical operations:  AVX2 FMA\n",
            "To enable them in other operations, rebuild TensorFlow with the appropriate compiler flags.\n",
            "2023-03-09 21:06:55.578732: W tensorflow/compiler/xla/stream_executor/platform/default/dso_loader.cc:64] Could not load dynamic library 'libnvinfer.so.7'; dlerror: libnvinfer.so.7: cannot open shared object file: No such file or directory; LD_LIBRARY_PATH: /usr/local/nvidia/lib:/usr/local/nvidia/lib64\n",
            "2023-03-09 21:06:55.578862: W tensorflow/compiler/xla/stream_executor/platform/default/dso_loader.cc:64] Could not load dynamic library 'libnvinfer_plugin.so.7'; dlerror: libnvinfer_plugin.so.7: cannot open shared object file: No such file or directory; LD_LIBRARY_PATH: /usr/local/nvidia/lib:/usr/local/nvidia/lib64\n",
            "2023-03-09 21:06:55.578884: W tensorflow/compiler/tf2tensorrt/utils/py_utils.cc:38] TF-TRT Warning: Cannot dlopen some TensorRT libraries. If you would like to use Nvidia GPU with TensorRT, please make sure the missing libraries mentioned above are installed properly.\n",
            "2023-03-09 21:06:57.208670: E tensorflow/compiler/xla/stream_executor/cuda/cuda_driver.cc:267] failed call to cuInit: CUDA_ERROR_NO_DEVICE: no CUDA-capable device is detected\n",
            "Looking in indexes: https://pypi.org/simple, https://us-python.pkg.dev/colab-wheels/public/simple/\n",
            "Collecting pl-core-news-lg==3.5.0\n",
            "  Downloading https://github.com/explosion/spacy-models/releases/download/pl_core_news_lg-3.5.0/pl_core_news_lg-3.5.0-py3-none-any.whl (573.7 MB)\n",
            "\u001b[2K     \u001b[90m━━━━━━━━━━━━━━━━━━━━━━━━━━━━━━━━━━━━━━━\u001b[0m \u001b[32m573.7/573.7 MB\u001b[0m \u001b[31m2.7 MB/s\u001b[0m eta \u001b[36m0:00:00\u001b[0m\n",
            "\u001b[?25hRequirement already satisfied: spacy<3.6.0,>=3.5.0 in /usr/local/lib/python3.9/dist-packages (from pl-core-news-lg==3.5.0) (3.5.0)\n",
            "Requirement already satisfied: pathy>=0.10.0 in /usr/local/lib/python3.9/dist-packages (from spacy<3.6.0,>=3.5.0->pl-core-news-lg==3.5.0) (0.10.1)\n",
            "Requirement already satisfied: setuptools in /usr/local/lib/python3.9/dist-packages (from spacy<3.6.0,>=3.5.0->pl-core-news-lg==3.5.0) (57.4.0)\n",
            "Requirement already satisfied: requests<3.0.0,>=2.13.0 in /usr/local/lib/python3.9/dist-packages (from spacy<3.6.0,>=3.5.0->pl-core-news-lg==3.5.0) (2.25.1)\n",
            "Requirement already satisfied: cymem<2.1.0,>=2.0.2 in /usr/local/lib/python3.9/dist-packages (from spacy<3.6.0,>=3.5.0->pl-core-news-lg==3.5.0) (2.0.7)\n",
            "Requirement already satisfied: spacy-legacy<3.1.0,>=3.0.11 in /usr/local/lib/python3.9/dist-packages (from spacy<3.6.0,>=3.5.0->pl-core-news-lg==3.5.0) (3.0.12)\n",
            "Requirement already satisfied: spacy-loggers<2.0.0,>=1.0.0 in /usr/local/lib/python3.9/dist-packages (from spacy<3.6.0,>=3.5.0->pl-core-news-lg==3.5.0) (1.0.4)\n",
            "Requirement already satisfied: preshed<3.1.0,>=3.0.2 in /usr/local/lib/python3.9/dist-packages (from spacy<3.6.0,>=3.5.0->pl-core-news-lg==3.5.0) (3.0.8)\n",
            "Requirement already satisfied: jinja2 in /usr/local/lib/python3.9/dist-packages (from spacy<3.6.0,>=3.5.0->pl-core-news-lg==3.5.0) (3.1.2)\n",
            "Requirement already satisfied: packaging>=20.0 in /usr/local/lib/python3.9/dist-packages (from spacy<3.6.0,>=3.5.0->pl-core-news-lg==3.5.0) (23.0)\n",
            "Requirement already satisfied: srsly<3.0.0,>=2.4.3 in /usr/local/lib/python3.9/dist-packages (from spacy<3.6.0,>=3.5.0->pl-core-news-lg==3.5.0) (2.4.6)\n",
            "Requirement already satisfied: thinc<8.2.0,>=8.1.0 in /usr/local/lib/python3.9/dist-packages (from spacy<3.6.0,>=3.5.0->pl-core-news-lg==3.5.0) (8.1.8)\n",
            "Requirement already satisfied: pydantic!=1.8,!=1.8.1,<1.11.0,>=1.7.4 in /usr/local/lib/python3.9/dist-packages (from spacy<3.6.0,>=3.5.0->pl-core-news-lg==3.5.0) (1.10.5)\n",
            "Requirement already satisfied: typer<0.8.0,>=0.3.0 in /usr/local/lib/python3.9/dist-packages (from spacy<3.6.0,>=3.5.0->pl-core-news-lg==3.5.0) (0.7.0)\n",
            "Requirement already satisfied: smart-open<7.0.0,>=5.2.1 in /usr/local/lib/python3.9/dist-packages (from spacy<3.6.0,>=3.5.0->pl-core-news-lg==3.5.0) (6.3.0)\n",
            "Requirement already satisfied: tqdm<5.0.0,>=4.38.0 in /usr/local/lib/python3.9/dist-packages (from spacy<3.6.0,>=3.5.0->pl-core-news-lg==3.5.0) (4.65.0)\n",
            "Requirement already satisfied: numpy>=1.15.0 in /usr/local/lib/python3.9/dist-packages (from spacy<3.6.0,>=3.5.0->pl-core-news-lg==3.5.0) (1.22.4)\n",
            "Requirement already satisfied: catalogue<2.1.0,>=2.0.6 in /usr/local/lib/python3.9/dist-packages (from spacy<3.6.0,>=3.5.0->pl-core-news-lg==3.5.0) (2.0.8)\n",
            "Requirement already satisfied: langcodes<4.0.0,>=3.2.0 in /usr/local/lib/python3.9/dist-packages (from spacy<3.6.0,>=3.5.0->pl-core-news-lg==3.5.0) (3.3.0)\n",
            "Requirement already satisfied: murmurhash<1.1.0,>=0.28.0 in /usr/local/lib/python3.9/dist-packages (from spacy<3.6.0,>=3.5.0->pl-core-news-lg==3.5.0) (1.0.9)\n",
            "Requirement already satisfied: wasabi<1.2.0,>=0.9.1 in /usr/local/lib/python3.9/dist-packages (from spacy<3.6.0,>=3.5.0->pl-core-news-lg==3.5.0) (0.10.1)\n",
            "Requirement already satisfied: typing-extensions>=4.2.0 in /usr/local/lib/python3.9/dist-packages (from pydantic!=1.8,!=1.8.1,<1.11.0,>=1.7.4->spacy<3.6.0,>=3.5.0->pl-core-news-lg==3.5.0) (4.5.0)\n",
            "Requirement already satisfied: idna<3,>=2.5 in /usr/local/lib/python3.9/dist-packages (from requests<3.0.0,>=2.13.0->spacy<3.6.0,>=3.5.0->pl-core-news-lg==3.5.0) (2.10)\n",
            "Requirement already satisfied: chardet<5,>=3.0.2 in /usr/local/lib/python3.9/dist-packages (from requests<3.0.0,>=2.13.0->spacy<3.6.0,>=3.5.0->pl-core-news-lg==3.5.0) (4.0.0)\n",
            "Requirement already satisfied: urllib3<1.27,>=1.21.1 in /usr/local/lib/python3.9/dist-packages (from requests<3.0.0,>=2.13.0->spacy<3.6.0,>=3.5.0->pl-core-news-lg==3.5.0) (1.26.14)\n",
            "Requirement already satisfied: certifi>=2017.4.17 in /usr/local/lib/python3.9/dist-packages (from requests<3.0.0,>=2.13.0->spacy<3.6.0,>=3.5.0->pl-core-news-lg==3.5.0) (2022.12.7)\n",
            "Requirement already satisfied: confection<1.0.0,>=0.0.1 in /usr/local/lib/python3.9/dist-packages (from thinc<8.2.0,>=8.1.0->spacy<3.6.0,>=3.5.0->pl-core-news-lg==3.5.0) (0.0.4)\n",
            "Requirement already satisfied: blis<0.8.0,>=0.7.8 in /usr/local/lib/python3.9/dist-packages (from thinc<8.2.0,>=8.1.0->spacy<3.6.0,>=3.5.0->pl-core-news-lg==3.5.0) (0.7.9)\n",
            "Requirement already satisfied: click<9.0.0,>=7.1.1 in /usr/local/lib/python3.9/dist-packages (from typer<0.8.0,>=0.3.0->spacy<3.6.0,>=3.5.0->pl-core-news-lg==3.5.0) (8.1.3)\n",
            "Requirement already satisfied: MarkupSafe>=2.0 in /usr/local/lib/python3.9/dist-packages (from jinja2->spacy<3.6.0,>=3.5.0->pl-core-news-lg==3.5.0) (2.1.2)\n",
            "Installing collected packages: pl-core-news-lg\n",
            "Successfully installed pl-core-news-lg-3.5.0\n",
            "\u001b[38;5;2m✔ Download and installation successful\u001b[0m\n",
            "You can now load the package via spacy.load('pl_core_news_lg')\n"
          ]
        }
      ]
    },
    {
      "cell_type": "code",
      "source": [
        "import spacy"
      ],
      "metadata": {
        "colab": {
          "base_uri": "https://localhost:8080/"
        },
        "id": "i5V0Q0xONDKK",
        "outputId": "d989449b-c6df-43c6-9fa8-3eb8e750b98b"
      },
      "execution_count": 24,
      "outputs": [
        {
          "output_type": "stream",
          "name": "stderr",
          "text": [
            "/usr/local/lib/python3.9/dist-packages/torch/cuda/__init__.py:497: UserWarning: Can't initialize NVML\n",
            "  warnings.warn(\"Can't initialize NVML\")\n"
          ]
        }
      ]
    },
    {
      "cell_type": "code",
      "source": [
        "nlp = spacy.load(\"pl_core_news_lg\")"
      ],
      "metadata": {
        "id": "XzMuivsbNOVj"
      },
      "execution_count": 25,
      "outputs": []
    },
    {
      "cell_type": "code",
      "source": [
        "nlp.pipeline"
      ],
      "metadata": {
        "colab": {
          "base_uri": "https://localhost:8080/"
        },
        "id": "9V_qh2FlNQNR",
        "outputId": "92579cad-fb21-4685-9c8f-48c911976db3"
      },
      "execution_count": 26,
      "outputs": [
        {
          "output_type": "execute_result",
          "data": {
            "text/plain": [
              "[('tok2vec', <spacy.pipeline.tok2vec.Tok2Vec at 0x7f547a760f40>),\n",
              " ('morphologizer',\n",
              "  <spacy.pipeline.morphologizer.Morphologizer at 0x7f547a760ca0>),\n",
              " ('parser', <spacy.pipeline.dep_parser.DependencyParser at 0x7f547a81ad60>),\n",
              " ('lemmatizer',\n",
              "  <spacy.pipeline.edit_tree_lemmatizer.EditTreeLemmatizer at 0x7f547a760d60>),\n",
              " ('tagger', <spacy.pipeline.tagger.Tagger at 0x7f547a7dce80>),\n",
              " ('attribute_ruler',\n",
              "  <spacy.pipeline.attributeruler.AttributeRuler at 0x7f547a6e6e80>),\n",
              " ('ner', <spacy.pipeline.ner.EntityRecognizer at 0x7f547a81acf0>)]"
            ]
          },
          "metadata": {},
          "execution_count": 26
        }
      ]
    },
    {
      "cell_type": "code",
      "source": [
        "doc = nlp(\"tweety\")"
      ],
      "metadata": {
        "id": "lF91ECKXNSQ5"
      },
      "execution_count": 27,
      "outputs": []
    },
    {
      "cell_type": "code",
      "source": [
        "#3.1\n",
        "for ent in doc.ents:\n",
        "  if ent.label_ == \"persName\":\n",
        "    print(ent.text).to_column(\"persons\")"
      ],
      "metadata": {
        "id": "vL2pkA69NTpR"
      },
      "execution_count": 28,
      "outputs": []
    },
    {
      "cell_type": "code",
      "source": [
        "#3.2\n",
        "for ent in doc.ents:\n",
        "  if ent.label_ == \"placeName\":\n",
        "    print(ent.text).to_column(\"places\")"
      ],
      "metadata": {
        "id": "zRVbjsYjNXsh"
      },
      "execution_count": 29,
      "outputs": []
    },
    {
      "cell_type": "code",
      "source": [
        "#3.3\n",
        "for ent in doc.ents:\n",
        "  if ent.label_ == \"orgName\":\n",
        "    print(ent.text).to_column(\"organisations\")"
      ],
      "metadata": {
        "id": "BG2jI925NZl5"
      },
      "execution_count": 30,
      "outputs": []
    },
    {
      "cell_type": "code",
      "source": [
        "import matplotlib.pyplot as plt"
      ],
      "metadata": {
        "id": "FUT4CnX0NbsJ"
      },
      "execution_count": 31,
      "outputs": []
    },
    {
      "cell_type": "code",
      "source": [
        "dni_publikacji = tweety[\"created_at\"].apply(lambda x: x.split(\" \",1)[0]).value_counts().reindex([\"Poniedziałek\",\"Wtorek\",\"Środa\",\"Czwartek\",\"Piątek\",\"Sobota\",\"Niedziela\"])"
      ],
      "metadata": {
        "id": "7NGjKJkWNeCp"
      },
      "execution_count": 32,
      "outputs": []
    },
    {
      "cell_type": "code",
      "source": [
        "plt.bar(dni_publikacji.keys(),dni_publikacji.values)"
      ],
      "metadata": {
        "colab": {
          "base_uri": "https://localhost:8080/",
          "height": 282
        },
        "id": "4kHnJYvgNgdh",
        "outputId": "2b0b3a92-f437-40ad-e69d-c63c1bf8343c"
      },
      "execution_count": 33,
      "outputs": [
        {
          "output_type": "execute_result",
          "data": {
            "text/plain": [
              "<BarContainer object of 7 artists>"
            ]
          },
          "metadata": {},
          "execution_count": 33
        },
        {
          "output_type": "display_data",
          "data": {
            "text/plain": [
              "<Figure size 432x288 with 1 Axes>"
            ],
            "image/png": "[encoded data removed]"
          },
          "metadata": {
            "needs_background": "light"
          }
        }
      ]
    }
  ]
}